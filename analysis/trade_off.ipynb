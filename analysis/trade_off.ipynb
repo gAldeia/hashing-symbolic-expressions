{
 "cells": [
  {
   "cell_type": "code",
   "execution_count": 1,
   "metadata": {},
   "outputs": [
    {
     "name": "stdout",
     "output_type": "stream",
     "text": [
      "['../models/SimplifierTopDownOnlyLast.py', '../models/Vanilla.py', '../models/SimplifierBottomUp1e-2.py', '../models/SimplifierBottomUp1e-4.py', '../models/SimplifierBottomUp1e-6.py', '../models/SimplifierTopDown1e-2.py', '../models/SimplifierBottomUp1e-1.py', '../models/SimplifierBottomUp1e-0.py', '../models/SimplifierTopDown1e-1.py', '../models/SimplifierBottomUp.py', '../models/SimplifierTopDown1e-10.py', '../models/SimplifierBottomUpOnlyLast.py', '../models/SimplifierTopDown1e-6.py', '../models/SimplifierTopDown1e-4.py', '../models/SimplifierBottomUp1e-10.py', '../models/SimplifierTopDown.py', '../models/SimplifierTopDown1e-0.py'] ['Top Down (only last)', 'Without simplify', 'Bottom Up 1e-2', 'Bottom Up 1e-4', 'Bottom Up 1e-6', 'Top Down 1e-2', 'Bottom Up 1e-1', 'Bottom Up 1e-0', 'Top Down 1e-1', 'Bottom Up', 'Top Down 1e-10', 'Bottom Up (only last)', 'Top Down 1e-6', 'Top Down 1e-4', 'Bottom Up 1e-10', 'Top Down', 'Top Down 1e-0']\n",
      "(540, 14)\n",
      "['Without simplify' 'Bottom Up' 'Top Down']\n",
      "['Airfoil' 'Concrete' 'Energy Cooling' 'Energy Heating' 'Housing' 'Yacht']\n",
      "[5, 25, 45, 65, 85, 105, 125, 145, 165, 185, 205, 225, 245, 254]\n"
     ]
    }
   ],
   "source": [
    "import warnings\n",
    "warnings.simplefilter(action='ignore', category=FutureWarning)\n",
    "warnings.simplefilter(action='ignore', category=UserWarning)\n",
    "from statannotations.Annotator import Annotator #https://github.com/trevismd/statannotations\n",
    "\n",
    "import pandas as pd\n",
    "import numpy as np\n",
    "import matplotlib.pyplot as plt\n",
    "import seaborn as sns\n",
    "\n",
    "# if getting OptionError: \"No such keys(s): 'mode.use_inf_as_null'\"\n",
    "# !pip install --upgrade seaborn pandas\n",
    "\n",
    "import matplotlib as mpl\n",
    "import os\n",
    "from glob import glob\n",
    "\n",
    "from _load_data import * # Getting our specific labels, formatting, and data\n",
    "from _cd_diagram import *\n",
    "\n",
    "# Getting some free samples\n",
    "results_df.sample(1)\n",
    "\n",
    "print(gens)\n",
    "\n",
    "# Don't change any code below, it may break (probably will) --------------------"
   ]
  },
  {
   "cell_type": "code",
   "execution_count": 6,
   "metadata": {},
   "outputs": [],
   "source": [
    "# Exploring boxplot results first\n",
    "g = sns.relplot(data=results_df, hue='model', x='size', y='test_mse',\n",
    "    col='dataset', col_wrap=col_wrap, kind='scatter', \n",
    "    aspect=0.5, facet_kws={'sharey': False, 'sharex': False})\n",
    "\n",
    "# g.map_dataframe(sns.swarmplot, x=\"model\", y=yaxis, \n",
    "#                 palette=[\"#000000\"], size=3,\n",
    "#                 alpha=0.5, dodge=True)\n",
    "\n",
    "g.set_titles(\"{col_name}\").set_axis_labels(\"\", 'test mse')\n",
    "\n",
    "for (ds, plot_ax) in g._axes_dict.items():\n",
    "    plot_ax.grid(which='major', axis='both', linewidth=.8)\n",
    "\n",
    "plt.tight_layout()\n",
    "plt.savefig(f\"../paper/figs/test_mse_tradede_off.pdf\")\n",
    "plt.savefig(f\"../paper/figs/test_mse_tradede_off.png\")\n",
    "plt.show()  "
   ]
  }
 ],
 "metadata": {
  "kernelspec": {
   "display_name": "hashing-experiments",
   "language": "python",
   "name": "python3"
  },
  "language_info": {
   "codemirror_mode": {
    "name": "ipython",
    "version": 3
   },
   "file_extension": ".py",
   "mimetype": "text/x-python",
   "name": "python",
   "nbconvert_exporter": "python",
   "pygments_lexer": "ipython3",
   "version": "3.12.1"
  }
 },
 "nbformat": 4,
 "nbformat_minor": 2
}
