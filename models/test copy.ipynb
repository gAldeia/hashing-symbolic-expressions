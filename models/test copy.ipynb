{
 "cells": [
  {
   "cell_type": "code",
   "execution_count": 1,
   "metadata": {},
   "outputs": [
    {
     "name": "stdout",
     "output_type": "stream",
     "text": [
      "hashtable will have dimensions 256 x 755\n",
      "starting to index. 755, 0\n",
      "starting to index. 755, 1\n",
      "starting to index. 755, 2\n",
      "starting to index. 755, 3\n",
      "starting to index. 755, 4\n",
      "starting to index. 755, 5\n",
      "initialized 6 keys\n",
      "gen\tevals\tbest_size\tbest_error\tn_simplifications\tn_new_hashes\tavg train error\tavg train size\tavg val error\tavg val size\tmed train error\tmed train size\tmed val error\tmed val size\tstd train error\tstd train size\tstd val error\tstd val size\tmin train error\tmin train size\tmin val error\tmin val size\tmax train error\tmax train size\tmax val error\tmax val size\n",
      "0  \t40   \t11       \t-11513.8  \t99               \t187         \t               \t              \t             \t            \t               \t              \t             \t            \t               \t              \t             \t            \t               \t              \t             \t            \t               \t              \t             \t            \n",
      "1  \t40   \t1        \t-46.6065  \t61               \t102         \t               \t              \t             \t            \t               \t              \t             \t            \t               \t              \t             \t            \t               \t              \t             \t            \t               \t              \t             \t            \n",
      "2  \t40   \t1        \t-46.6065  \t53               \t101         \t               \t              \t             \t            \t               \t              \t             \t            \t               \t              \t             \t            \t               \t              \t             \t            \t               \t              \t             \t            \n",
      "3  \t40   \t1        \t-46.6065  \t59               \t87          \t               \t              \t             \t            \t               \t              \t             \t            \t               \t              \t             \t            \t               \t              \t             \t            \t               \t              \t             \t            \n",
      "4  \t40   \t1        \t-46.6065  \t58               \t64          \t               \t              \t             \t            \t               \t              \t             \t            \t               \t              \t             \t            \t               \t              \t             \t            \t               \t              \t             \t            \n",
      "5  \t40   \t1        \t-46.6065  \t80               \t98          \t               \t              \t             \t            \t               \t              \t             \t            \t               \t              \t             \t            \t               \t              \t             \t            \t               \t              \t             \t            \n",
      "6  \t40   \t1        \t-46.6065  \t61               \t89          \t               \t              \t             \t            \t               \t              \t             \t            \t               \t              \t             \t            \t               \t              \t             \t            \t               \t              \t             \t            \n",
      "7  \t40   \t1        \t-46.6065  \t55               \t50          \t               \t              \t             \t            \t               \t              \t             \t            \t               \t              \t             \t            \t               \t              \t             \t            \t               \t              \t             \t            \n",
      "8  \t40   \t1        \t-46.6065  \t69               \t82          \t               \t              \t             \t            \t               \t              \t             \t            \t               \t              \t             \t            \t               \t              \t             \t            \t               \t              \t             \t            \n"
     ]
    }
   ],
   "source": [
    "from nsga2.estimator import NSGAIIRegressor\n",
    "import pandas as pd\n",
    "import numpy as np\n",
    "from sklearn.model_selection import train_test_split\n",
    "\n",
    "df = pd.read_csv('../data/lexicase_paper/d_airfoil.txt', sep=',')\n",
    "\n",
    "# DEAP interface requires X and y to be numpy arrays, not pandas dataframes\n",
    "X = df.drop('label', axis=1).values\n",
    "y = df['label'].values\n",
    "\n",
    "X_train, X_test, y_train, y_test = train_test_split(X, y)\n",
    "\n",
    "estimator = NSGAIIRegressor(**{\n",
    "    'pop_size'        : 40, \n",
    "    'max_gen'         : 20,\n",
    "    'max_depth'       : 6,  # 8\n",
    "    'max_size'        : 2**6, # 75\n",
    "    'objectives'      : ['error', 'size'],\n",
    "    'initialization'  : 'uniform',\n",
    "    'pick_criteria'   : 'error', # error, MCDM\n",
    "    'validation_size' : 0.33,\n",
    "    'simplify'        : False,\n",
    "    \n",
    "    # Either you use smart variation (just 1 cx and 1 mutation)\n",
    "    'smart_variation' : True,\n",
    "    'warm_up'         : False,\n",
    "\n",
    "    # Or you use mabs (4 mutations)\n",
    "    'use_mab'         : False,\n",
    "    'use_context'     : False,\n",
    "\n",
    "    'simplification_method' : 'bottom_up',\n",
    "    'simplification_tolerance' : 1e-0,\n",
    "    'verbosity'       : 1,\n",
    "    'survival'       : 'tournament'\n",
    "}).fit(X_train, y_train)"
   ]
  },
  {
   "cell_type": "code",
   "execution_count": null,
   "metadata": {},
   "outputs": [],
   "source": [
    "# Should not give erros even without mabs\n",
    "pd.DataFrame(estimator.variator.mab.pull_history).iloc[:10]"
   ]
  },
  {
   "cell_type": "code",
   "execution_count": null,
   "metadata": {},
   "outputs": [],
   "source": [
    "pd.DataFrame(estimator.variator.mab.pull_history)['arm'].value_counts().sort_values()"
   ]
  },
  {
   "cell_type": "code",
   "execution_count": null,
   "metadata": {},
   "outputs": [],
   "source": [
    "pd.DataFrame(estimator.variator.mab.pull_history).groupby('arm')['reward'].value_counts().sort_values()"
   ]
  },
  {
   "cell_type": "code",
   "execution_count": null,
   "metadata": {},
   "outputs": [],
   "source": [
    "variation_log = pd.DataFrame(estimator.variator.log)\n",
    "\n",
    "print(\"mean statistics (without nans and infs)\")\n",
    "for col in ['delta error', 'delta size', 'euclid dist prediction']:\n",
    "    print(col)\n",
    "    print(variation_log\n",
    "            .groupby('variation')[col]\n",
    "            # .apply (lambda c: np.nanmean(c.replace([np.inf, -np.inf], np.nan).dropna()) )\n",
    "            .apply (lambda c: np.nanmedian(c) )\n",
    "            .sort_values()\n",
    "    )\n",
    "    print('-'*40)"
   ]
  },
  {
   "cell_type": "code",
   "execution_count": null,
   "metadata": {},
   "outputs": [],
   "source": [
    "from sklearn.metrics import r2_score\n",
    "from sklearn.metrics import mean_squared_error as mse\n",
    "\n",
    "model      = str(estimator.best_estimator_).replace(\"ARG\", \"x_\")\n",
    "size       = len(estimator.best_estimator_)\n",
    "complexity = size\n",
    "depth      = estimator.best_estimator_.height\n",
    "\n",
    "print(model)\n",
    "print(size)\n",
    "print(complexity)\n",
    "print(depth)\n",
    "\n",
    "for metric, fn, (data_X, data_y) in [\n",
    "    ('train_r2',  r2_score, (X_train, y_train)),\n",
    "    ('test_r2',   r2_score, (X_test,  y_test )),\n",
    "    ('train_mse', mse,      (X_train, y_train)),\n",
    "    ('test_mse',  mse,      (X_test,  y_test )),\n",
    "]:\n",
    "    score = np.nan\n",
    "    try:\n",
    "        score = fn(estimator.predict(data_X), data_y)\n",
    "        print(f\"{metric} : {score}\")\n",
    "    except ValueError:\n",
    "        print(f\"(Failed to calculate {metric}\")\n",
    "\n",
    "for ind in estimator.archive_:\n",
    "    print(ind.fitness, ind)"
   ]
  },
  {
   "cell_type": "code",
   "execution_count": null,
   "metadata": {},
   "outputs": [],
   "source": [
    "if False:\n",
    "    print( len(list(estimator.simplifier.pop_hash.keys())) )\n",
    "\n",
    "    n_keys =  len(list(estimator.simplifier.pop_hash.keys()))\n",
    "\n",
    "    for key in list(estimator.simplifier.pop_hash.keys())[:n_keys]:\n",
    "        print(key)\n",
    "        for ind in estimator.simplifier.pop_hash[key]:\n",
    "            print(\" -\", ind)"
   ]
  },
  {
   "cell_type": "code",
   "execution_count": null,
   "metadata": {},
   "outputs": [],
   "source": [
    "if True:\n",
    "    print( len(list(estimator.variator.variator_.pop_hash.keys())) )\n",
    "\n",
    "    n_keys =  len(list(estimator.variator.variator_.pop_hash.keys()))\n",
    "\n",
    "    for key in list(estimator.variator.variator_.pop_hash.keys())[:n_keys]:\n",
    "        print(key)\n",
    "        for ind in estimator.variator.variator_.pop_hash[key]:\n",
    "            print(\" -\", ind)"
   ]
  },
  {
   "cell_type": "code",
   "execution_count": null,
   "metadata": {},
   "outputs": [],
   "source": [
    "display(df.describe())\n",
    "\n",
    "A = np.maximum(df['x0'], df['x4']+29.657).values\n",
    "B = df['x4'].values\n",
    "\n",
    "print(np.std(A) * (A - np.mean(A))[:5])\n",
    "print(np.std(B) * (B - np.mean(B))[:5])"
   ]
  },
  {
   "cell_type": "code",
   "execution_count": null,
   "metadata": {},
   "outputs": [],
   "source": []
  }
 ],
 "metadata": {
  "kernelspec": {
   "display_name": "hashing-experiments",
   "language": "python",
   "name": "python3"
  },
  "language_info": {
   "codemirror_mode": {
    "name": "ipython",
    "version": 3
   },
   "file_extension": ".py",
   "mimetype": "text/x-python",
   "name": "python",
   "nbconvert_exporter": "python",
   "pygments_lexer": "ipython3",
   "version": "3.12.1"
  }
 },
 "nbformat": 4,
 "nbformat_minor": 2
}
