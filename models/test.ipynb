{
 "cells": [
  {
   "cell_type": "code",
   "execution_count": 1,
   "metadata": {},
   "outputs": [
    {
     "name": "stdout",
     "output_type": "stream",
     "text": [
      "gen\tevals\tbest_size\tbest_error\tn_simplifications\tn_new_hashes\tavg train error\tavg train size\tavg val error\tavg val size\tmed train error\tmed train size\tmed val error\tmed val size\tstd train error\tstd train size\tstd val error\tstd val size\tmin train error\tmin train size\tmin val error\tmin val size\tmax train error\tmax train size\tmax val error\tmax val size\n",
      "0  \t40   \t8        \t-1416.39  \t61               \t189         \t               \t              \t             \t            \t               \t              \t             \t            \t               \t              \t             \t            \t               \t              \t             \t            \t               \t              \t             \t            \n",
      "1  \t40   \t1        \t-47.306   \t28               \t48          \t               \t              \t             \t            \t               \t              \t             \t            \t               \t              \t             \t            \t               \t              \t             \t            \t               \t              \t             \t            \n",
      "2  \t40   \t5        \t-46.7933  \t38               \t76          \t               \t              \t             \t            \t               \t              \t             \t            \t               \t              \t             \t            \t               \t              \t             \t            \t               \t              \t             \t            \n",
      "3  \t40   \t5        \t-46.7933  \t29               \t25          \t               \t              \t             \t            \t               \t              \t             \t            \t               \t              \t             \t            \t               \t              \t             \t            \t               \t              \t             \t            \n",
      "4  \t40   \t5        \t-44.8253  \t40               \t41          \t               \t              \t             \t            \t               \t              \t             \t            \t               \t              \t             \t            \t               \t              \t             \t            \t               \t              \t             \t            \n",
      "5  \t40   \t5        \t-44.8253  \t26               \t46          \t               \t              \t             \t            \t               \t              \t             \t            \t               \t              \t             \t            \t               \t              \t             \t            \t               \t              \t             \t            \n",
      "6  \t40   \t5        \t-44.8253  \t44               \t51          \t               \t              \t             \t            \t               \t              \t             \t            \t               \t              \t             \t            \t               \t              \t             \t            \t               \t              \t             \t            \n",
      "7  \t40   \t5        \t-44.8253  \t14               \t10          \t               \t              \t             \t            \t               \t              \t             \t            \t               \t              \t             \t            \t               \t              \t             \t            \t               \t              \t             \t            \n",
      "8  \t40   \t7        \t-44.8243  \t21               \t13          \t               \t              \t             \t            \t               \t              \t             \t            \t               \t              \t             \t            \t               \t              \t             \t            \t               \t              \t             \t            \n",
      "9  \t40   \t7        \t-44.8153  \t26               \t18          \t               \t              \t             \t            \t               \t              \t             \t            \t               \t              \t             \t            \t               \t              \t             \t            \t               \t              \t             \t            \n",
      "10 \t40   \t5        \t-42.6325  \t24               \t30          \t               \t              \t             \t            \t               \t              \t             \t            \t               \t              \t             \t            \t               \t              \t             \t            \t               \t              \t             \t            \n",
      "11 \t40   \t13       \t-39.4592  \t10               \t19          \t               \t              \t             \t            \t               \t              \t             \t            \t               \t              \t             \t            \t               \t              \t             \t            \t               \t              \t             \t            \n",
      "12 \t40   \t13       \t-39.4592  \t17               \t18          \t               \t              \t             \t            \t               \t              \t             \t            \t               \t              \t             \t            \t               \t              \t             \t            \t               \t              \t             \t            \n",
      "13 \t40   \t13       \t-37.152   \t17               \t13          \t               \t              \t             \t            \t               \t              \t             \t            \t               \t              \t             \t            \t               \t              \t             \t            \t               \t              \t             \t            \n",
      "14 \t40   \t13       \t-36.6346  \t12               \t23          \t               \t              \t             \t            \t               \t              \t             \t            \t               \t              \t             \t            \t               \t              \t             \t            \t               \t              \t             \t            \n",
      "15 \t40   \t12       \t-35.3477  \t17               \t22          \t               \t              \t             \t            \t               \t              \t             \t            \t               \t              \t             \t            \t               \t              \t             \t            \t               \t              \t             \t            \n",
      "16 \t40   \t12       \t-35.3473  \t13               \t25          \t               \t              \t             \t            \t               \t              \t             \t            \t               \t              \t             \t            \t               \t              \t             \t            \t               \t              \t             \t            \n",
      "17 \t40   \t17       \t-26.4855  \t12               \t16          \t               \t              \t             \t            \t               \t              \t             \t            \t               \t              \t             \t            \t               \t              \t             \t            \t               \t              \t             \t            \n",
      "18 \t40   \t17       \t-26.4855  \t19               \t17          \t               \t              \t             \t            \t               \t              \t             \t            \t               \t              \t             \t            \t               \t              \t             \t            \t               \t              \t             \t            \n",
      "19 \t40   \t16       \t-26.4855  \t14               \t18          \t               \t              \t             \t            \t               \t              \t             \t            \t               \t              \t             \t            \t               \t              \t             \t            \t               \t              \t             \t            \n",
      "best model subtract(124.9112286629668, subtract(cdiv(mul4(0.9411760897924463, x_2, x_0, x_4), x_4), square(arctan(add3(2843781.80219572, x_0, x_1))))) with size 16,  depth 5,  and fitness (26.485483057186894, 16.0)\n"
     ]
    }
   ],
   "source": [
    "from nsga2.estimator import NSGAIIRegressor\n",
    "import pandas as pd\n",
    "import numpy as np\n",
    "from sklearn.model_selection import train_test_split\n",
    "\n",
    "df = pd.read_csv('../data/lexicase_paper/d_airfoil.txt', sep=',')\n",
    "\n",
    "# DEAP interface requires X and y to be numpy arrays, not pandas dataframes\n",
    "X = df.drop('label', axis=1).values\n",
    "y = df['label'].values\n",
    "\n",
    "X_train, X_test, y_train, y_test = train_test_split(X, y)\n",
    "\n",
    "estimator = NSGAIIRegressor(**{\n",
    "    'pop_size'        : 40, \n",
    "    'max_gen'         : 20,\n",
    "    'max_depth'       : 6,  # 8\n",
    "    'max_size'        : 2**6, # 75\n",
    "    'objectives'      : ['error', 'size'],\n",
    "    'initialization'  : 'uniform',\n",
    "    'pick_criteria'   : 'error', # error, MCDM\n",
    "    'validation_size' : 0.33,\n",
    "    'simplify'        : False,\n",
    "    \n",
    "    # Either you use smart variation (just 1 cx and 1 mutation)\n",
    "    'smart_variation' : False,\n",
    "    'warm_up'         : False,\n",
    "\n",
    "    # Or you use mabs (4 mutations)\n",
    "    'use_mab'         : False,\n",
    "    'use_context'     : False,\n",
    "\n",
    "    'simplification_method' : 'bottom_up',\n",
    "    'simplification_tolerance' : 1e-0,\n",
    "    'verbosity'       : 1,\n",
    "    'survival'       : 'tournament'\n",
    "}).fit(X_train, y_train)"
   ]
  },
  {
   "cell_type": "code",
   "execution_count": 2,
   "metadata": {},
   "outputs": [
    {
     "data": {
      "text/html": [
       "<div>\n",
       "<style scoped>\n",
       "    .dataframe tbody tr th:only-of-type {\n",
       "        vertical-align: middle;\n",
       "    }\n",
       "\n",
       "    .dataframe tbody tr th {\n",
       "        vertical-align: top;\n",
       "    }\n",
       "\n",
       "    .dataframe thead th {\n",
       "        text-align: right;\n",
       "    }\n",
       "</style>\n",
       "<table border=\"1\" class=\"dataframe\">\n",
       "  <thead>\n",
       "    <tr style=\"text-align: right;\">\n",
       "      <th></th>\n",
       "      <th>t</th>\n",
       "      <th>arm</th>\n",
       "      <th>reward</th>\n",
       "      <th>update</th>\n",
       "      <th>delta_error</th>\n",
       "      <th>gen</th>\n",
       "      <th>ball_id</th>\n",
       "    </tr>\n",
       "  </thead>\n",
       "  <tbody>\n",
       "    <tr>\n",
       "      <th>0</th>\n",
       "      <td>0</td>\n",
       "      <td>point</td>\n",
       "      <td>1.0</td>\n",
       "      <td>0</td>\n",
       "      <td>[166.72867862049134, -0.0]</td>\n",
       "      <td>1</td>\n",
       "      <td>1</td>\n",
       "    </tr>\n",
       "    <tr>\n",
       "      <th>1</th>\n",
       "      <td>1</td>\n",
       "      <td>point</td>\n",
       "      <td>1.0</td>\n",
       "      <td>0</td>\n",
       "      <td>[13735.92090156993, -5.0]</td>\n",
       "      <td>1</td>\n",
       "      <td>1</td>\n",
       "    </tr>\n",
       "    <tr>\n",
       "      <th>2</th>\n",
       "      <td>2</td>\n",
       "      <td>point</td>\n",
       "      <td>0.0</td>\n",
       "      <td>0</td>\n",
       "      <td>[-209.14030979132258, -0.0]</td>\n",
       "      <td>1</td>\n",
       "      <td>1</td>\n",
       "    </tr>\n",
       "    <tr>\n",
       "      <th>3</th>\n",
       "      <td>3</td>\n",
       "      <td>delete</td>\n",
       "      <td>1.0</td>\n",
       "      <td>0</td>\n",
       "      <td>[14222.136759494624, -6.0]</td>\n",
       "      <td>1</td>\n",
       "      <td>1</td>\n",
       "    </tr>\n",
       "    <tr>\n",
       "      <th>4</th>\n",
       "      <td>4</td>\n",
       "      <td>delete</td>\n",
       "      <td>0.0</td>\n",
       "      <td>0</td>\n",
       "      <td>[-11853.907811850224, -0.0]</td>\n",
       "      <td>1</td>\n",
       "      <td>1</td>\n",
       "    </tr>\n",
       "    <tr>\n",
       "      <th>5</th>\n",
       "      <td>5</td>\n",
       "      <td>subtree</td>\n",
       "      <td>1.0</td>\n",
       "      <td>0</td>\n",
       "      <td>[inf, 44.0]</td>\n",
       "      <td>1</td>\n",
       "      <td>1</td>\n",
       "    </tr>\n",
       "    <tr>\n",
       "      <th>6</th>\n",
       "      <td>6</td>\n",
       "      <td>subtree</td>\n",
       "      <td>0.0</td>\n",
       "      <td>0</td>\n",
       "      <td>[-0.0, -0.0]</td>\n",
       "      <td>1</td>\n",
       "      <td>1</td>\n",
       "    </tr>\n",
       "    <tr>\n",
       "      <th>7</th>\n",
       "      <td>7</td>\n",
       "      <td>insert</td>\n",
       "      <td>1.0</td>\n",
       "      <td>0</td>\n",
       "      <td>[inf, 1.0]</td>\n",
       "      <td>1</td>\n",
       "      <td>1</td>\n",
       "    </tr>\n",
       "    <tr>\n",
       "      <th>8</th>\n",
       "      <td>8</td>\n",
       "      <td>insert</td>\n",
       "      <td>0.0</td>\n",
       "      <td>0</td>\n",
       "      <td>[-10605.588558588204, 2.0]</td>\n",
       "      <td>1</td>\n",
       "      <td>1</td>\n",
       "    </tr>\n",
       "    <tr>\n",
       "      <th>9</th>\n",
       "      <td>9</td>\n",
       "      <td>cx</td>\n",
       "      <td>0.0</td>\n",
       "      <td>0</td>\n",
       "      <td>[-15522.685708984027, -2.0]</td>\n",
       "      <td>1</td>\n",
       "      <td>1</td>\n",
       "    </tr>\n",
       "  </tbody>\n",
       "</table>\n",
       "</div>"
      ],
      "text/plain": [
       "   t      arm  reward  update                  delta_error  gen  ball_id\n",
       "0  0    point     1.0       0   [166.72867862049134, -0.0]    1        1\n",
       "1  1    point     1.0       0    [13735.92090156993, -5.0]    1        1\n",
       "2  2    point     0.0       0  [-209.14030979132258, -0.0]    1        1\n",
       "3  3   delete     1.0       0   [14222.136759494624, -6.0]    1        1\n",
       "4  4   delete     0.0       0  [-11853.907811850224, -0.0]    1        1\n",
       "5  5  subtree     1.0       0                  [inf, 44.0]    1        1\n",
       "6  6  subtree     0.0       0                 [-0.0, -0.0]    1        1\n",
       "7  7   insert     1.0       0                   [inf, 1.0]    1        1\n",
       "8  8   insert     0.0       0   [-10605.588558588204, 2.0]    1        1\n",
       "9  9       cx     0.0       0  [-15522.685708984027, -2.0]    1        1"
      ]
     },
     "execution_count": 2,
     "metadata": {},
     "output_type": "execute_result"
    }
   ],
   "source": [
    "# Should not give erros even without mabs\n",
    "pd.DataFrame(estimator.variator.mab.pull_history).iloc[:10]"
   ]
  },
  {
   "cell_type": "code",
   "execution_count": 3,
   "metadata": {},
   "outputs": [
    {
     "data": {
      "text/plain": [
       "cx         100\n",
       "insert     126\n",
       "point      164\n",
       "subtree    171\n",
       "delete     199\n",
       "Name: arm, dtype: int64"
      ]
     },
     "execution_count": 3,
     "metadata": {},
     "output_type": "execute_result"
    }
   ],
   "source": [
    "pd.DataFrame(estimator.variator.mab.pull_history)['arm'].value_counts().sort_values()"
   ]
  },
  {
   "cell_type": "code",
   "execution_count": 4,
   "metadata": {},
   "outputs": [
    {
     "data": {
      "text/plain": [
       "arm      reward\n",
       "delete   0.0        22\n",
       "cx       0.0        34\n",
       "insert   0.0        34\n",
       "subtree  0.0        34\n",
       "point    0.0        40\n",
       "cx       1.0        66\n",
       "insert   1.0        92\n",
       "point    1.0       124\n",
       "subtree  1.0       137\n",
       "delete   1.0       177\n",
       "Name: reward, dtype: int64"
      ]
     },
     "execution_count": 4,
     "metadata": {},
     "output_type": "execute_result"
    }
   ],
   "source": [
    "pd.DataFrame(estimator.variator.mab.pull_history).groupby('arm')['reward'].value_counts().sort_values()"
   ]
  },
  {
   "cell_type": "code",
   "execution_count": 9,
   "metadata": {},
   "outputs": [
    {
     "name": "stdout",
     "output_type": "stream",
     "text": [
      "statistics (without nans and infs)\n",
      "delta error\n",
      "variation\n",
      "cx             2.198263\n",
      "delete         2.295486\n",
      "point          2.472891\n",
      "insert        81.759586\n",
      "subtree    15389.506117\n",
      "Name: delta error, dtype: float64\n",
      "----------------------------------------\n",
      "delta size\n",
      "variation\n",
      "delete    -2.0\n",
      "cx         0.0\n",
      "point      0.0\n",
      "insert     1.0\n",
      "subtree    6.0\n",
      "Name: delta size, dtype: float64\n",
      "----------------------------------------\n",
      "euclid dist prediction\n",
      "variation\n",
      "subtree    32.309526\n",
      "cx         40.834866\n",
      "delete     40.895770\n",
      "insert     43.937488\n",
      "point      45.788917\n",
      "Name: euclid dist prediction, dtype: float64\n",
      "----------------------------------------\n"
     ]
    }
   ],
   "source": [
    "variation_log = pd.DataFrame(estimator.variator.log)\n",
    "\n",
    "print(\"statistics (without nans and infs)\")\n",
    "for col in ['delta error', 'delta size', 'euclid dist prediction']:\n",
    "    print(col)\n",
    "    print(variation_log\n",
    "            .groupby('variation')[col]\n",
    "            # .apply (lambda c: np.nanmean(c.replace([np.inf, -np.inf], np.nan).dropna()) )\n",
    "            .apply (lambda c: np.nanmedian(c) )\n",
    "            .sort_values()\n",
    "    )\n",
    "    print('-'*40)"
   ]
  },
  {
   "cell_type": "code",
   "execution_count": 6,
   "metadata": {},
   "outputs": [
    {
     "name": "stdout",
     "output_type": "stream",
     "text": [
      "subtract(124.9112286629668, subtract(cdiv(mul4(0.9411760897924463, x_2, x_0, x_4), x_4), square(arctan(add3(2843781.80219572, x_0, x_1)))))\n",
      "16\n",
      "16\n",
      "5\n",
      "train_r2 : -0.35691782112193815\n",
      "test_r2 : -0.13493308968100837\n",
      "train_mse : 26.164647301273668\n",
      "test_mse : 24.13754296311155\n",
      "(26.485483057186894, 16.0) subtract(124.9112286629668, subtract(cdiv(mul4(0.9411760897924463, ARG2, ARG0, ARG4), ARG4), square(arctan(add3(2843781.80219572, ARG0, ARG1)))))\n",
      "(33.30673712978105, 13.0) subtract(-9236.100111111264, cdiv(cdiv(-110710.81655608509, ARG4), exp(square(arctan(add3(2290.9174664408274, ARG0, ARG1))))))\n",
      "(35.34732435102061, 12.0) subtract(-9377.602363401324, cdiv(cdiv(-25291.37907274315, ARG4), square(arctan(add3(957.5179493520319, ARG0, ARG1)))))\n"
     ]
    }
   ],
   "source": [
    "from sklearn.metrics import r2_score\n",
    "from sklearn.metrics import mean_squared_error as mse\n",
    "\n",
    "model      = str(estimator.best_estimator_).replace(\"ARG\", \"x_\")\n",
    "size       = len(estimator.best_estimator_)\n",
    "complexity = size\n",
    "depth      = estimator.best_estimator_.height\n",
    "\n",
    "print(model)\n",
    "print(size)\n",
    "print(complexity)\n",
    "print(depth)\n",
    "\n",
    "for metric, fn, (data_X, data_y) in [\n",
    "    ('train_r2',  r2_score, (X_train, y_train)),\n",
    "    ('test_r2',   r2_score, (X_test,  y_test )),\n",
    "    ('train_mse', mse,      (X_train, y_train)),\n",
    "    ('test_mse',  mse,      (X_test,  y_test )),\n",
    "]:\n",
    "    score = np.nan\n",
    "    try:\n",
    "        score = fn(estimator.predict(data_X), data_y)\n",
    "        print(f\"{metric} : {score}\")\n",
    "    except ValueError:\n",
    "        print(f\"(Failed to calculate {metric}\")\n",
    "\n",
    "for ind in estimator.archive_:\n",
    "    print(ind.fitness, ind)"
   ]
  },
  {
   "cell_type": "code",
   "execution_count": 7,
   "metadata": {},
   "outputs": [],
   "source": [
    "if False:\n",
    "    print( len(list(estimator.simplifier.pop_hash.keys())) )\n",
    "\n",
    "    n_keys =  len(list(estimator.simplifier.pop_hash.keys()))\n",
    "\n",
    "    for key in list(estimator.simplifier.pop_hash.keys())[:n_keys]:\n",
    "        print(key)\n",
    "        for ind in estimator.simplifier.pop_hash[key]:\n",
    "            print(\" -\", ind)"
   ]
  },
  {
   "cell_type": "code",
   "execution_count": 8,
   "metadata": {},
   "outputs": [
    {
     "ename": "AttributeError",
     "evalue": "'Variator' object has no attribute 'variator_'",
     "output_type": "error",
     "traceback": [
      "\u001b[0;31m---------------------------------------------------------------------------\u001b[0m",
      "\u001b[0;31mAttributeError\u001b[0m                            Traceback (most recent call last)",
      "Cell \u001b[0;32mIn[8], line 2\u001b[0m\n\u001b[1;32m      1\u001b[0m \u001b[38;5;28;01mif\u001b[39;00m \u001b[38;5;28;01mTrue\u001b[39;00m:\n\u001b[0;32m----> 2\u001b[0m     \u001b[38;5;28mprint\u001b[39m( \u001b[38;5;28mlen\u001b[39m(\u001b[38;5;28mlist\u001b[39m(\u001b[43mestimator\u001b[49m\u001b[38;5;241;43m.\u001b[39;49m\u001b[43mvariator\u001b[49m\u001b[38;5;241;43m.\u001b[39;49m\u001b[43mvariator_\u001b[49m\u001b[38;5;241m.\u001b[39mpop_hash\u001b[38;5;241m.\u001b[39mkeys())) )\n\u001b[1;32m      4\u001b[0m     n_keys \u001b[38;5;241m=\u001b[39m  \u001b[38;5;28mlen\u001b[39m(\u001b[38;5;28mlist\u001b[39m(estimator\u001b[38;5;241m.\u001b[39mvariator\u001b[38;5;241m.\u001b[39mvariator_\u001b[38;5;241m.\u001b[39mpop_hash\u001b[38;5;241m.\u001b[39mkeys()))\n\u001b[1;32m      6\u001b[0m     \u001b[38;5;28;01mfor\u001b[39;00m key \u001b[38;5;129;01min\u001b[39;00m \u001b[38;5;28mlist\u001b[39m(estimator\u001b[38;5;241m.\u001b[39mvariator\u001b[38;5;241m.\u001b[39mvariator_\u001b[38;5;241m.\u001b[39mpop_hash\u001b[38;5;241m.\u001b[39mkeys())[:n_keys]:\n",
      "\u001b[0;31mAttributeError\u001b[0m: 'Variator' object has no attribute 'variator_'"
     ]
    }
   ],
   "source": [
    "if True:\n",
    "    print( len(list(estimator.variator.variator_.pop_hash.keys())) )\n",
    "\n",
    "    n_keys =  len(list(estimator.variator.variator_.pop_hash.keys()))\n",
    "\n",
    "    for key in list(estimator.variator.variator_.pop_hash.keys())[:n_keys]:\n",
    "        print(key)\n",
    "        for ind in estimator.variator.variator_.pop_hash[key]:\n",
    "            print(\" -\", ind)"
   ]
  },
  {
   "cell_type": "code",
   "execution_count": null,
   "metadata": {},
   "outputs": [],
   "source": [
    "display(df.describe())\n",
    "\n",
    "A = np.maximum(df['x0'], df['x4']+29.657).values\n",
    "B = df['x4'].values\n",
    "\n",
    "print(np.std(A) * (A - np.mean(A))[:5])\n",
    "print(np.std(B) * (B - np.mean(B))[:5])"
   ]
  },
  {
   "cell_type": "code",
   "execution_count": null,
   "metadata": {},
   "outputs": [],
   "source": []
  }
 ],
 "metadata": {
  "kernelspec": {
   "display_name": "hashing-experiments",
   "language": "python",
   "name": "python3"
  },
  "language_info": {
   "codemirror_mode": {
    "name": "ipython",
    "version": 3
   },
   "file_extension": ".py",
   "mimetype": "text/x-python",
   "name": "python",
   "nbconvert_exporter": "python",
   "pygments_lexer": "ipython3",
   "version": "3.12.1"
  }
 },
 "nbformat": 4,
 "nbformat_minor": 2
}
